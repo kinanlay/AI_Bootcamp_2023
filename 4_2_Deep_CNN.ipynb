{
  "nbformat": 4,
  "nbformat_minor": 0,
  "metadata": {
    "colab": {
      "provenance": [],
      "gpuType": "T4",
      "include_colab_link": true
    },
    "kernelspec": {
      "name": "python3",
      "display_name": "Python 3"
    },
    "language_info": {
      "name": "python"
    },
    "accelerator": "GPU"
  },
  "cells": [
    {
      "cell_type": "markdown",
      "metadata": {
        "id": "view-in-github",
        "colab_type": "text"
      },
      "source": [
        "<a href=\"https://colab.research.google.com/github/kinanlay/NN/blob/main/4_2_Deep_CNN.ipynb\" target=\"_parent\"><img src=\"https://colab.research.google.com/assets/colab-badge.svg\" alt=\"Open In Colab\"/></a>"
      ]
    },
    {
      "cell_type": "markdown",
      "source": [],
      "metadata": {
        "id": "XD5o5-aKIzxa"
      }
    },
    {
      "cell_type": "markdown",
      "source": [
        "# AI Bootcamp @JUIIC\n",
        "\n",
        "# **Notebook 4.2 -- Convolutional neural networks (CNN) **\n",
        "\n",
        "(13/12/2023)\n",
        "\n",
        "The purpose of this notebook is to gain some familiarity with deep convolutional neural networks for image classifiaction into ten classes. <br><br>\n",
        "\n",
        "Change the number of layers and observe the performance.\n"
      ],
      "metadata": {
        "id": "Nxzgou6UIsXH"
      }
    },
    {
      "cell_type": "code",
      "execution_count": null,
      "metadata": {
        "id": "-dlxFsIzGAMP"
      },
      "outputs": [],
      "source": [
        "import numpy as np\n",
        "from keras.models import Sequential\n",
        "from keras.layers import Dropout, Dense, Flatten\n",
        "from keras.optimizers import Adam\n",
        "from keras.layers import Conv2D, MaxPooling2D\n",
        "#from keras.utils import np_utils as u\n",
        "from tensorflow.keras.utils import to_categorical\n",
        "from keras.datasets import cifar10\n",
        "import matplotlib.pyplot as plt\n",
        "#Lets start by loading the Cifar10 data\n",
        "(X, y), (X_test, y_test) = cifar10.load_data()\n",
        "\n",
        "#Keep in mind the images are in RGB\n",
        "#So we can normalise the data by diving by 255\n",
        "#The data is in integers therefore we need to convert them to float first\n",
        "X, X_test = X.astype('float32')/255.0, X_test.astype('float32')/255.0\n",
        "\n",
        "#Then we convert the y values into one-hot vectors\n",
        "#The cifar10 has only 10 classes, thats is why we specify a one-hot\n",
        "#vector of width/class 10\n",
        "y, y_test = to_categorical(y, 10), to_categorical(y_test, 10)\n",
        "\n",
        "#Now we can go ahead and create our Convolution model\n",
        "model = Sequential()\n",
        "#We want to output 32 features maps. The kernel size is going to be\n",
        "#3x3 and we specify our input shape to be 32x32 with 3 channels\n",
        "#Padding=same means we want the same dimensional output as input\n",
        "#activation specifies the activation function\n",
        "model.add(Conv2D(32, (3, 3), input_shape=(32, 32, 3), padding='same',\n",
        "                 activation='relu'))\n",
        "#20% of the nodes are set to 0\n",
        "model.add(Dropout(0.2))\n",
        "#now we add another convolution layer, again with a 3x3 kernel\n",
        "#This time our padding=valid this means that the output dimension can\n",
        "#take any form\n",
        "model.add(Conv2D(32, (3, 3), activation='relu', padding='valid'))\n",
        "#maxpool with a kernet of 2x2\n",
        "model.add(MaxPooling2D(pool_size=(2, 2)))\n",
        "#In a convolution NN, we neet to flatten our data before we can\n",
        "#input it into the ouput/dense layer\n",
        "model.add(Flatten())\n",
        "#Dense layer with 512 hidden units\n",
        "model.add(Dense(512, activation='relu'))\n",
        "#this time we set 30% of the nodes to 0 to minimize overfitting\n",
        "model.add(Dropout(0.3))\n",
        "#Finally the output dense layer with 10 hidden units corresponding to\n",
        "#our 10 classe\n",
        "model.add(Dense(10, activation='softmax'))\n",
        "model.summary()\n",
        "#Few simple configurations\n",
        "model.compile(loss='categorical_crossentropy',\n",
        "              optimizer=Adam(learning_rate=0.0004), metrics=['accuracy'])\n",
        "#Run the algorithm!\n",
        "history=model.fit(X, y, validation_data=(X_test, y_test), epochs=5,\n",
        "          batch_size=512,verbose=1)\n",
        "#Save the weights to use for later\n",
        "model.save_weights(\"cifar10.hdf5\")\n",
        "#Finally print the accuracy of our model!\n",
        "print(\"Accuracy:\", (model.evaluate(X_test, y_test)[1]))\n",
        "predictions=((model.predict(X_test[0:10], batch_size=128)))\n",
        "print(np.argmax(predictions, axis=1))\n",
        "#Prints out a number\n",
        "#1 - airplane, 2 - automobile, 3 - bird, 4 - cat, 5 - deer, 6 - dog\n",
        "#7 - frog, 8 - horse, 9 - ship, 10 - truck\n",
        "# Plot the training history\n",
        "\n",
        "loss, accuracy = model.evaluate(X_test, y_test, verbose=0)\n",
        "plt.figure(figsize=(12, 4))\n",
        "\n",
        "# Plot training & validation accuracy values\n",
        "plt.subplot(1, 2, 1)\n",
        "plt.plot(history.history['accuracy'])\n",
        "plt.plot(history.history['val_accuracy'])\n",
        "plt.title('Model Accuracy')\n",
        "plt.ylabel('Accuracy')\n",
        "plt.xlabel('Epoch')\n",
        "plt.legend(['Train', 'Validation'], loc='upper left')\n",
        "\n",
        "# Plot training & validation loss values\n",
        "plt.subplot(1, 2, 2)\n",
        "plt.plot(history.history['loss'])\n",
        "plt.plot(history.history['val_loss'])\n",
        "plt.title('Model Loss')\n",
        "plt.ylabel('Loss')\n",
        "plt.xlabel('Epoch')\n",
        "plt.legend(['Train', 'Validation'], loc='upper left')\n",
        "\n",
        "plt.show()"
      ]
    },
    {
      "cell_type": "markdown",
      "source": [
        "Exercise\n",
        "\n",
        "\n",
        "1.  Add one more Convolution layer after the first hidden layer and observe the performance\n",
        "2.   Add one more dense layer and observe the result\n",
        "\n"
      ],
      "metadata": {
        "id": "pf2S2W2tKqpJ"
      }
    }
  ]
}